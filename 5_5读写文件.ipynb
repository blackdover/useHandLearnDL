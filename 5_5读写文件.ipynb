{
 "cells": [
  {
   "cell_type": "code",
   "execution_count": 5,
   "id": "b0c066d6",
   "metadata": {},
   "outputs": [],
   "source": [
    "import torch\n",
    "from torch import nn\n",
    "from torch.nn import functional as F\n",
    "\n",
    "x=torch.arange(4)\n",
    "torch.save(x,\"./5_5/x.pt\")"
   ]
  },
  {
   "cell_type": "code",
   "execution_count": 8,
   "id": "ece868fb",
   "metadata": {},
   "outputs": [
    {
     "name": "stdout",
     "output_type": "stream",
     "text": [
      "tensor([0, 1, 2, 3])\n"
     ]
    }
   ],
   "source": [
    "x2=torch.load(\"./5_5/x.pt\")\n",
    "print(x2)"
   ]
  },
  {
   "cell_type": "code",
   "execution_count": 15,
   "id": "1065a53a",
   "metadata": {},
   "outputs": [
    {
     "data": {
      "text/plain": [
       "(tensor([0, 1, 2, 3]), tensor([0., 0., 0., 0.]))"
      ]
     },
     "execution_count": 15,
     "metadata": {},
     "output_type": "execute_result"
    }
   ],
   "source": [
    "y=torch.zeros(4)\n",
    "torch.save([x,y],\"./5_5/x-files.txt\")\n",
    "x2,y2=torch.load(\"./5_5/x-files.txt\")\n",
    "(x2,y2)"
   ]
  },
  {
   "cell_type": "code",
   "execution_count": 17,
   "id": "aee76642",
   "metadata": {},
   "outputs": [
    {
     "data": {
      "text/plain": [
       "{'x': tensor([0, 1, 2, 3]), 'y': tensor([0., 0., 0., 0.])}"
      ]
     },
     "execution_count": 17,
     "metadata": {},
     "output_type": "execute_result"
    }
   ],
   "source": [
    "mydict={\"x\":x,\"y\":y}\n",
    "torch.save(mydict,\"./5_5/mydict.pt\")\n",
    "mydict2=torch.load(\"./5_5/mydict.pt\")\n",
    "mydict2"
   ]
  },
  {
   "cell_type": "code",
   "execution_count": 25,
   "id": "3882aec7",
   "metadata": {},
   "outputs": [
    {
     "name": "stdout",
     "output_type": "stream",
     "text": [
      "模型参数字典的内容:\n",
      "参数名: hidden.weight, 形状: torch.Size([256, 20]), 类型: <class 'torch.Tensor'>\n",
      "参数名: hidden.bias, 形状: torch.Size([256]), 类型: <class 'torch.Tensor'>\n",
      "参数名: output.weight, 形状: torch.Size([10, 256]), 类型: <class 'torch.Tensor'>\n",
      "参数名: output.bias, 形状: torch.Size([10]), 类型: <class 'torch.Tensor'>\n",
      "\n",
      "详细的参数值:\n",
      "OrderedDict([('hidden.weight', tensor([[-0.0665, -0.0235,  0.2128,  ..., -0.0246,  0.0144,  0.1092],\n",
      "        [-0.1787,  0.2141, -0.2208,  ..., -0.1779,  0.0731,  0.0078],\n",
      "        [-0.0290,  0.1873,  0.1175,  ...,  0.0404,  0.1409,  0.0757],\n",
      "        ...,\n",
      "        [ 0.0696, -0.0194, -0.1658,  ...,  0.0834, -0.2129, -0.0245],\n",
      "        [-0.2014, -0.0251, -0.1838,  ...,  0.0527,  0.0730,  0.0860],\n",
      "        [ 0.1674, -0.0723, -0.0936,  ..., -0.2207,  0.0361, -0.1560]])), ('hidden.bias', tensor([ 0.1981,  0.1310,  0.1727,  0.1153, -0.1772, -0.0142,  0.0517, -0.1963,\n",
      "        -0.1917,  0.0365,  0.2185,  0.0031,  0.1340,  0.1848, -0.0213, -0.2182,\n",
      "         0.0727,  0.0779, -0.1884,  0.0929,  0.1811,  0.1916,  0.0879, -0.2156,\n",
      "        -0.0687,  0.0636,  0.0028, -0.0657,  0.0962,  0.0324,  0.0295,  0.1730,\n",
      "        -0.0954, -0.1012,  0.0238,  0.0761,  0.0759,  0.1328,  0.0763, -0.1565,\n",
      "         0.1005, -0.1051, -0.1321, -0.0359, -0.1527,  0.0370,  0.1883,  0.0732,\n",
      "         0.0790, -0.1245, -0.2170, -0.1139,  0.2139, -0.0971,  0.1062, -0.0149,\n",
      "        -0.1924,  0.0782,  0.0602, -0.0340, -0.1252, -0.1947,  0.1171,  0.1483,\n",
      "        -0.0931,  0.1312, -0.1906, -0.2078, -0.1688, -0.1568, -0.1158,  0.1883,\n",
      "        -0.0616, -0.1108, -0.1987,  0.0418,  0.1227,  0.0282, -0.1012,  0.2052,\n",
      "        -0.0956,  0.0811, -0.1467,  0.0709, -0.0018,  0.1560, -0.0950, -0.0799,\n",
      "        -0.0973, -0.0359,  0.1499,  0.0535,  0.0624, -0.0268, -0.0315, -0.0306,\n",
      "        -0.0340,  0.0452, -0.1807, -0.2136, -0.1098, -0.0350, -0.1405, -0.2202,\n",
      "        -0.1656, -0.0766, -0.0050, -0.1006, -0.1379,  0.1864, -0.1071,  0.0643,\n",
      "         0.0011,  0.1457, -0.0290, -0.0905, -0.0482,  0.0313, -0.0205, -0.1879,\n",
      "        -0.0382,  0.0648, -0.0659, -0.1113,  0.1538,  0.2019,  0.0706,  0.0207,\n",
      "        -0.2216,  0.0724, -0.1049, -0.1715,  0.0989, -0.1943, -0.2104,  0.2200,\n",
      "        -0.1142, -0.1919, -0.1301, -0.1794, -0.0722, -0.0469, -0.0701,  0.2146,\n",
      "        -0.0349,  0.1340, -0.0428, -0.0003, -0.1470,  0.0978,  0.0570, -0.1364,\n",
      "        -0.1320,  0.0464, -0.0774, -0.0130,  0.1599, -0.1119,  0.0889,  0.0505,\n",
      "        -0.1115, -0.1958, -0.1686, -0.0727,  0.1650,  0.2093,  0.0676, -0.2037,\n",
      "        -0.0243,  0.0363,  0.1556, -0.2143,  0.0711,  0.0491,  0.0993,  0.0775,\n",
      "         0.2154, -0.0627,  0.1015, -0.2005,  0.0646, -0.1677,  0.0987,  0.1010,\n",
      "         0.2138,  0.0904, -0.0885, -0.1248, -0.0838, -0.0028, -0.1765, -0.1003,\n",
      "         0.0841, -0.1576,  0.2023,  0.0343, -0.1710,  0.0580, -0.1291, -0.1207,\n",
      "        -0.1673, -0.0557,  0.1950,  0.0557, -0.1751, -0.1699,  0.0318, -0.1975,\n",
      "         0.2024,  0.2078, -0.2119,  0.2153, -0.0267,  0.1297, -0.1379,  0.0584,\n",
      "        -0.0150, -0.0745, -0.0288,  0.2043,  0.0457, -0.0679, -0.1289,  0.0888,\n",
      "         0.1974, -0.0142, -0.0545,  0.0647,  0.1516, -0.1164, -0.0120,  0.0102,\n",
      "        -0.1205,  0.0782,  0.1555,  0.0910, -0.0262,  0.0370,  0.0308,  0.1334,\n",
      "         0.1878,  0.0140,  0.0167, -0.0279,  0.1047,  0.0287,  0.0207,  0.0884,\n",
      "         0.0244,  0.0622, -0.0512, -0.1241,  0.1139,  0.0069,  0.2115,  0.1022])), ('output.weight', tensor([[ 0.0194,  0.0458, -0.0262,  ...,  0.0302, -0.0160, -0.0326],\n",
      "        [-0.0066,  0.0114, -0.0434,  ..., -0.0464, -0.0515, -0.0352],\n",
      "        [-0.0516,  0.0405,  0.0424,  ..., -0.0378, -0.0321, -0.0183],\n",
      "        ...,\n",
      "        [-0.0586, -0.0144,  0.0603,  ..., -0.0346,  0.0210,  0.0133],\n",
      "        [ 0.0181, -0.0333, -0.0109,  ..., -0.0317,  0.0022,  0.0515],\n",
      "        [ 0.0182,  0.0418,  0.0172,  ...,  0.0055,  0.0273, -0.0173]])), ('output.bias', tensor([-0.0382,  0.0261,  0.0557, -0.0154, -0.0346, -0.0204,  0.0244, -0.0171,\n",
      "         0.0563,  0.0257]))])\n"
     ]
    }
   ],
   "source": [
    "class MLP(nn.Module):\n",
    "    def __init__(self):\n",
    "        super().__init__()\n",
    "        self.hidden=nn.Linear(20,256)\n",
    "        self.output=nn.Linear(256,10)\n",
    "    def forward(self,x):\n",
    "        return self.output(F.relu(self.hidden(x)))\n",
    "\n",
    "net=MLP()\n",
    "X=torch.rand(2,20)\n",
    "Y=net(X)\n",
    "\n",
    "# 先看看state_dict()返回的字典长什么样\n",
    "print(\"模型参数字典的内容:\")\n",
    "state_dict = net.state_dict()\n",
    "for key, value in state_dict.items():\n",
    "    print(f\"参数名: {key}, 形状: {value.shape}, 类型: {type(value)}\")\n",
    "\n",
    "print(\"\\n详细的参数值:\")\n",
    "print(state_dict)\n",
    "\n",
    "torch.save(net.state_dict(),\"./5_5/mlp.params\")"
   ]
  },
  {
   "cell_type": "code",
   "execution_count": null,
   "id": "53f31781",
   "metadata": {},
   "outputs": [
    {
     "data": {
      "text/plain": [
       "tensor([[True, True, True, True, True, True, True, True, True, True],\n",
       "        [True, True, True, True, True, True, True, True, True, True]])"
      ]
     },
     "execution_count": 24,
     "metadata": {},
     "output_type": "execute_result"
    }
   ],
   "source": [
    "# state_dict()返回的是一个字典(dict)，包含了模型的所有参数\n",
    "# 字典的键是参数名，值是对应的张量参数\n",
    "clone=MLP()\n",
    "# load_state_dict()方法将保存的参数字典加载到模型中\n",
    "clone.load_state_dict(torch.load(\"./5_5/mlp.params\"))\n",
    "# eval()方法将模型设置为评估模式，这会关闭dropout和batch normalization等训练时的特殊行为\n",
    "clone.eval()\n",
    "Y_clone=clone(X)\n",
    "Y_clone==Y"
   ]
  }
 ],
 "metadata": {
  "kernelspec": {
   "display_name": "learntorch",
   "language": "python",
   "name": "python3"
  },
  "language_info": {
   "codemirror_mode": {
    "name": "ipython",
    "version": 3
   },
   "file_extension": ".py",
   "mimetype": "text/x-python",
   "name": "python",
   "nbconvert_exporter": "python",
   "pygments_lexer": "ipython3",
   "version": "3.9.23"
  }
 },
 "nbformat": 4,
 "nbformat_minor": 5
}
