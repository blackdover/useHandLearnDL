{
 "cells": [
  {
   "cell_type": "code",
   "execution_count": 5,
   "id": "59fdf7c2",
   "metadata": {},
   "outputs": [
    {
     "data": {
      "text/plain": [
       "tensor([[0.3008],\n",
       "        [0.1927],\n",
       "        [0.2974]], grad_fn=<AddmmBackward0>)"
      ]
     },
     "execution_count": 5,
     "metadata": {},
     "output_type": "execute_result"
    }
   ],
   "source": [
    "import torch\n",
    "from torch import nn\n",
    "\n",
    "# LazyLinear vs Linear的区别：\n",
    "# Linear: 需要明确指定输入特征数，在创建时就初始化权重\n",
    "# LazyLinear: 延后初始化，在第一次前向传播时才确定输入特征数并初始化权重\n",
    "\n",
    "# 使用普通Linear（需要明确指定输入维度4）\n",
    "net_linear = nn.Sequential(nn.Linear(4, 8), nn.ReLU(), nn.Linear(8, 1))\n",
    "\n",
    "# 使用LazyLinear（不需要指定输入维度，延后到第一次使用时确定）\n",
    "net_lazy = nn.Sequential(nn.LazyLinear(8), nn.ReLU(), nn.LazyLinear(1))\n",
    "\n",
    "# 选择使用LazyLinear版本\n",
    "net = net_lazy\n",
    "X=torch.rand(size=(3,4))\n",
    "net(X)"
   ]
  }
 ],
 "metadata": {
  "kernelspec": {
   "display_name": "learntorch",
   "language": "python",
   "name": "python3"
  },
  "language_info": {
   "codemirror_mode": {
    "name": "ipython",
    "version": 3
   },
   "file_extension": ".py",
   "mimetype": "text/x-python",
   "name": "python",
   "nbconvert_exporter": "python",
   "pygments_lexer": "ipython3",
   "version": "3.9.23"
  }
 },
 "nbformat": 4,
 "nbformat_minor": 5
}
