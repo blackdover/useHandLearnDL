{
 "cells": [
  {
   "cell_type": "code",
   "execution_count": 2,
   "id": "79370e42",
   "metadata": {},
   "outputs": [
    {
     "data": {
      "text/plain": [
       "[tensor([[-0.1925, -0.2022],\n",
       "         [ 0.8993,  0.4580],\n",
       "         [-0.1799,  0.6595],\n",
       "         [ 0.2546, -0.2740],\n",
       "         [-2.2517,  1.1073],\n",
       "         [ 0.4914, -0.4207],\n",
       "         [ 0.9334, -0.9579],\n",
       "         [ 1.7532, -0.2445],\n",
       "         [-0.2767, -1.7574],\n",
       "         [-0.5771, -0.8510]]),\n",
       " tensor([[ 4.5210],\n",
       "         [ 4.4483],\n",
       "         [ 1.5939],\n",
       "         [ 5.6519],\n",
       "         [-4.0795],\n",
       "         [ 6.5989],\n",
       "         [ 9.3363],\n",
       "         [ 8.5203],\n",
       "         [ 9.6136],\n",
       "         [ 5.9259]])]"
      ]
     },
     "execution_count": 2,
     "metadata": {},
     "output_type": "execute_result"
    }
   ],
   "source": [
    "import numpy as np\n",
    "import torch\n",
    "from torch.utils import data\n",
    "from d2l import torch as d2l\n",
    "true_w = torch.tensor([2, -3.4])\n",
    "true_b = 4.2\n",
    "# synthetic_data函数用于生成合成的线性回归数据\n",
    "# 它根据给定的权重true_w、偏置true_b和样本数量1000，生成对应的特征和标签\n",
    "# 生成的数据满足线性关系：y = Xw + b + noise（其中noise是随机噪声）\n",
    "features, labels = d2l.synthetic_data(true_w, true_b, 1000)\n",
    "\n",
    "def load_array(data_arrays, batch_size, is_train=True):\n",
    "    # TensorDataset的作用：将多个tensor（如features和labels）打包成一个数据集\n",
    "    # 它确保对应索引的数据能够一起被访问，比如features[i]和labels[i]是对应的\n",
    "    dataset = data.TensorDataset(*data_arrays)\n",
    "    \n",
    "    # DataLoader的作用：\n",
    "    # 1. 提供批量数据加载功能，每次返回batch_size个样本\n",
    "    # 2. shuffle=True时会随机打乱数据顺序，有助于训练时的随机性\n",
    "    # 3. 支持多进程数据加载，提高数据读取效率\n",
    "    # 4. 自动处理最后一个不完整的batch\n",
    "    # shuffle参数的含义：\n",
    "    # - shuffle=True：每个epoch开始时会随机打乱数据集中样本的顺序\n",
    "    # - shuffle=False：保持数据集原有的顺序，按顺序依次取样本\n",
    "    # 在训练时通常设置shuffle=True来增加随机性，避免模型记住数据顺序\n",
    "    # 在验证/测试时通常设置shuffle=False来保证结果的可重复性\n",
    "    return data.DataLoader(dataset, batch_size, shuffle=is_train)\n",
    "\n",
    "batch_size = 10\n",
    "data_iter = load_array((features, labels), batch_size)\n",
    "\n",
    "# next(iter(data_iter))的作用：\n",
    "# 1. iter(data_iter)：将DataLoader转换为迭代器对象\n",
    "# 2. next()：从迭代器中获取下一个元素，即获取第一个批次的数据\n",
    "# 这行代码的目的是验证数据加载器是否正常工作，查看第一个批次的数据格式和内容\n",
    "# 返回的是一个包含(features_batch, labels_batch)的元组，其中：\n",
    "# - features_batch: 形状为(batch_size, feature_dim)的特征张量\n",
    "# - labels_batch: 形状为(batch_size, 1)的标签张量\n",
    "next(iter(data_iter))"
   ]
  },
  {
   "cell_type": "code",
   "execution_count": 4,
   "id": "16ff693d",
   "metadata": {},
   "outputs": [
    {
     "data": {
      "text/plain": [
       "tensor([0.])"
      ]
     },
     "execution_count": 4,
     "metadata": {},
     "output_type": "execute_result"
    }
   ],
   "source": [
    "from torch import nn\n",
    "net=nn.Sequential(\n",
    "    nn.Linear(2,1)\n",
    "    \n",
    "    )\n",
    "# net[0]指的就是Sequential中的第一个层，即nn.Linear(2,1)线性层\n",
    "# 这里对线性层的权重和偏置进行初始化：\n",
    "# - weight.data.normal_(0,0.01)：将权重初始化为均值0，标准差0.01的正态分布\n",
    "# - bias.data.fill_(0)：将偏置初始化为0\n",
    "net[0].weight.data.normal_(0,0.01)\n",
    "net[0].bias.data.fill_(0)\n"
   ]
  },
  {
   "cell_type": "code",
   "execution_count": 7,
   "id": "ecc14469",
   "metadata": {},
   "outputs": [],
   "source": [
    "loss=nn.MSELoss()"
   ]
  },
  {
   "cell_type": "code",
   "execution_count": 8,
   "id": "bf53d214",
   "metadata": {},
   "outputs": [
    {
     "name": "stdout",
     "output_type": "stream",
     "text": [
      "epoch 1, loss 0.000225\n",
      "epoch 2, loss 0.000098\n",
      "epoch 3, loss 0.000098\n"
     ]
    }
   ],
   "source": [
    "trainer=torch.optim.SGD(net.parameters(),lr=0.03)\n",
    "\n",
    "# SGD确实是随机梯度下降(Stochastic Gradient Descent)的缩写\n",
    "# 在PyTorch中，torch.optim.SGD实现了随机梯度下降优化算法\n",
    "# \n",
    "# SGD的工作原理：\n",
    "# 1. 计算损失函数对模型参数的梯度\n",
    "# 2. 使用梯度信息更新参数：θ = θ - lr * ∇θ\n",
    "# 3. lr是学习率，控制参数更新的步长\n",
    "#\n",
    "# 这里创建的trainer对象包含：\n",
    "# - net.parameters()：模型中所有需要优化的参数（权重和偏置）\n",
    "# - lr=0.03：学习率设置为0.03\n",
    "#\n",
    "# 使用方法：\n",
    "# 1. trainer.zero_grad()：清零梯度\n",
    "# 2. loss.backward()：反向传播计算梯度\n",
    "# 3. trainer.step()：根据梯度更新参数\n",
    "\n",
    "num_epochs=3\n",
    "for epoch in range(num_epochs):\n",
    "    for X,y in data_iter:\n",
    "        l=loss(net(X),y)\n",
    "        trainer.zero_grad()\n",
    "        l.backward()\n",
    "        trainer.step()\n",
    "    l=loss(net(features),labels)\n",
    "    print(f'epoch {epoch+1}, loss {l:f}')\n",
    "    "
   ]
  },
  {
   "cell_type": "code",
   "execution_count": null,
   "id": "bdbe3703",
   "metadata": {},
   "outputs": [],
   "source": []
  }
 ],
 "metadata": {
  "kernelspec": {
   "display_name": "learntorch",
   "language": "python",
   "name": "python3"
  },
  "language_info": {
   "codemirror_mode": {
    "name": "ipython",
    "version": 3
   },
   "file_extension": ".py",
   "mimetype": "text/x-python",
   "name": "python",
   "nbconvert_exporter": "python",
   "pygments_lexer": "ipython3",
   "version": "3.9.23"
  }
 },
 "nbformat": 4,
 "nbformat_minor": 5
}
